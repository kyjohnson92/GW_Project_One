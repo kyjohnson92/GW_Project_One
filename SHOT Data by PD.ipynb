{
 "cells": [
  {
   "cell_type": "code",
   "execution_count": 1,
   "metadata": {
    "collapsed": true
   },
   "outputs": [],
   "source": [
    "import csv as csv\n",
    "import pandas as pd\n",
    "import numpy as np\n",
    "import matplotlib.pyplot as plt"
   ]
  },
  {
   "cell_type": "code",
   "execution_count": 2,
   "metadata": {
    "collapsed": true
   },
   "outputs": [],
   "source": [
    "data = pd.read_csv('shot_logs.csv')\n"
   ]
  },
  {
   "cell_type": "code",
   "execution_count": 3,
   "metadata": {
    "collapsed": true
   },
   "outputs": [],
   "source": [
    "new_pd = data[['GAME_ID','LOCATION','SHOT_RESULT','PTS', 'player_name', 'player_id', 'DRIBBLES', 'SHOT_CLOCK', 'PERIOD', 'SHOT_DIST']]"
   ]
  },
  {
   "cell_type": "code",
   "execution_count": 4,
   "metadata": {},
   "outputs": [
    {
     "data": {
      "text/html": [
       "<div>\n",
       "<style>\n",
       "    .dataframe thead tr:only-child th {\n",
       "        text-align: right;\n",
       "    }\n",
       "\n",
       "    .dataframe thead th {\n",
       "        text-align: left;\n",
       "    }\n",
       "\n",
       "    .dataframe tbody tr th {\n",
       "        vertical-align: top;\n",
       "    }\n",
       "</style>\n",
       "<table border=\"1\" class=\"dataframe\">\n",
       "  <thead>\n",
       "    <tr style=\"text-align: right;\">\n",
       "      <th></th>\n",
       "      <th>GAME_ID</th>\n",
       "      <th>LOCATION</th>\n",
       "      <th>SHOT_RESULT</th>\n",
       "      <th>PTS</th>\n",
       "      <th>player_name</th>\n",
       "      <th>player_id</th>\n",
       "      <th>DRIBBLES</th>\n",
       "      <th>SHOT_CLOCK</th>\n",
       "      <th>PERIOD</th>\n",
       "      <th>SHOT_DIST</th>\n",
       "    </tr>\n",
       "  </thead>\n",
       "  <tbody>\n",
       "    <tr>\n",
       "      <th>0</th>\n",
       "      <td>21400899</td>\n",
       "      <td>A</td>\n",
       "      <td>made</td>\n",
       "      <td>2</td>\n",
       "      <td>brian roberts</td>\n",
       "      <td>203148</td>\n",
       "      <td>2</td>\n",
       "      <td>10.8</td>\n",
       "      <td>1</td>\n",
       "      <td>7.7</td>\n",
       "    </tr>\n",
       "    <tr>\n",
       "      <th>1</th>\n",
       "      <td>21400899</td>\n",
       "      <td>A</td>\n",
       "      <td>missed</td>\n",
       "      <td>0</td>\n",
       "      <td>brian roberts</td>\n",
       "      <td>203148</td>\n",
       "      <td>0</td>\n",
       "      <td>3.4</td>\n",
       "      <td>1</td>\n",
       "      <td>28.2</td>\n",
       "    </tr>\n",
       "    <tr>\n",
       "      <th>2</th>\n",
       "      <td>21400899</td>\n",
       "      <td>A</td>\n",
       "      <td>missed</td>\n",
       "      <td>0</td>\n",
       "      <td>brian roberts</td>\n",
       "      <td>203148</td>\n",
       "      <td>3</td>\n",
       "      <td>NaN</td>\n",
       "      <td>1</td>\n",
       "      <td>10.1</td>\n",
       "    </tr>\n",
       "    <tr>\n",
       "      <th>3</th>\n",
       "      <td>21400899</td>\n",
       "      <td>A</td>\n",
       "      <td>missed</td>\n",
       "      <td>0</td>\n",
       "      <td>brian roberts</td>\n",
       "      <td>203148</td>\n",
       "      <td>2</td>\n",
       "      <td>10.3</td>\n",
       "      <td>2</td>\n",
       "      <td>17.2</td>\n",
       "    </tr>\n",
       "    <tr>\n",
       "      <th>4</th>\n",
       "      <td>21400899</td>\n",
       "      <td>A</td>\n",
       "      <td>missed</td>\n",
       "      <td>0</td>\n",
       "      <td>brian roberts</td>\n",
       "      <td>203148</td>\n",
       "      <td>2</td>\n",
       "      <td>10.9</td>\n",
       "      <td>2</td>\n",
       "      <td>3.7</td>\n",
       "    </tr>\n",
       "  </tbody>\n",
       "</table>\n",
       "</div>"
      ],
      "text/plain": [
       "    GAME_ID LOCATION SHOT_RESULT  PTS    player_name  player_id  DRIBBLES  \\\n",
       "0  21400899        A        made    2  brian roberts     203148         2   \n",
       "1  21400899        A      missed    0  brian roberts     203148         0   \n",
       "2  21400899        A      missed    0  brian roberts     203148         3   \n",
       "3  21400899        A      missed    0  brian roberts     203148         2   \n",
       "4  21400899        A      missed    0  brian roberts     203148         2   \n",
       "\n",
       "   SHOT_CLOCK  PERIOD  SHOT_DIST  \n",
       "0        10.8       1        7.7  \n",
       "1         3.4       1       28.2  \n",
       "2         NaN       1       10.1  \n",
       "3        10.3       2       17.2  \n",
       "4        10.9       2        3.7  "
      ]
     },
     "execution_count": 4,
     "metadata": {},
     "output_type": "execute_result"
    }
   ],
   "source": [
    "new_pd.head()"
   ]
  },
  {
   "cell_type": "code",
   "execution_count": 5,
   "metadata": {},
   "outputs": [
    {
     "data": {
      "text/html": [
       "<div>\n",
       "<style>\n",
       "    .dataframe thead tr:only-child th {\n",
       "        text-align: right;\n",
       "    }\n",
       "\n",
       "    .dataframe thead th {\n",
       "        text-align: left;\n",
       "    }\n",
       "\n",
       "    .dataframe tbody tr th {\n",
       "        vertical-align: top;\n",
       "    }\n",
       "</style>\n",
       "<table border=\"1\" class=\"dataframe\">\n",
       "  <thead>\n",
       "    <tr style=\"text-align: right;\">\n",
       "      <th></th>\n",
       "      <th>GAME_ID</th>\n",
       "      <th>LOCATION</th>\n",
       "      <th>SHOT_RESULT</th>\n",
       "      <th>PTS</th>\n",
       "      <th>player_name</th>\n",
       "      <th>player_id</th>\n",
       "      <th>DRIBBLES</th>\n",
       "      <th>SHOT_CLOCK</th>\n",
       "      <th>PERIOD</th>\n",
       "      <th>SHOT_DIST</th>\n",
       "    </tr>\n",
       "  </thead>\n",
       "  <tbody>\n",
       "    <tr>\n",
       "      <th>0</th>\n",
       "      <td>21400899</td>\n",
       "      <td>A</td>\n",
       "      <td>made</td>\n",
       "      <td>2</td>\n",
       "      <td>brian roberts</td>\n",
       "      <td>203148</td>\n",
       "      <td>2</td>\n",
       "      <td>10.8</td>\n",
       "      <td>1</td>\n",
       "      <td>7.7</td>\n",
       "    </tr>\n",
       "    <tr>\n",
       "      <th>7</th>\n",
       "      <td>21400899</td>\n",
       "      <td>A</td>\n",
       "      <td>made</td>\n",
       "      <td>2</td>\n",
       "      <td>brian roberts</td>\n",
       "      <td>203148</td>\n",
       "      <td>3</td>\n",
       "      <td>3.4</td>\n",
       "      <td>4</td>\n",
       "      <td>3.5</td>\n",
       "    </tr>\n",
       "    <tr>\n",
       "      <th>11</th>\n",
       "      <td>21400890</td>\n",
       "      <td>H</td>\n",
       "      <td>made</td>\n",
       "      <td>2</td>\n",
       "      <td>brian roberts</td>\n",
       "      <td>203148</td>\n",
       "      <td>14</td>\n",
       "      <td>12.1</td>\n",
       "      <td>4</td>\n",
       "      <td>14.6</td>\n",
       "    </tr>\n",
       "    <tr>\n",
       "      <th>12</th>\n",
       "      <td>21400890</td>\n",
       "      <td>H</td>\n",
       "      <td>made</td>\n",
       "      <td>2</td>\n",
       "      <td>brian roberts</td>\n",
       "      <td>203148</td>\n",
       "      <td>2</td>\n",
       "      <td>4.3</td>\n",
       "      <td>4</td>\n",
       "      <td>5.9</td>\n",
       "    </tr>\n",
       "    <tr>\n",
       "      <th>15</th>\n",
       "      <td>21400859</td>\n",
       "      <td>A</td>\n",
       "      <td>made</td>\n",
       "      <td>3</td>\n",
       "      <td>brian roberts</td>\n",
       "      <td>203148</td>\n",
       "      <td>3</td>\n",
       "      <td>6.4</td>\n",
       "      <td>2</td>\n",
       "      <td>24.7</td>\n",
       "    </tr>\n",
       "  </tbody>\n",
       "</table>\n",
       "</div>"
      ],
      "text/plain": [
       "     GAME_ID LOCATION SHOT_RESULT  PTS    player_name  player_id  DRIBBLES  \\\n",
       "0   21400899        A        made    2  brian roberts     203148         2   \n",
       "7   21400899        A        made    2  brian roberts     203148         3   \n",
       "11  21400890        H        made    2  brian roberts     203148        14   \n",
       "12  21400890        H        made    2  brian roberts     203148         2   \n",
       "15  21400859        A        made    3  brian roberts     203148         3   \n",
       "\n",
       "    SHOT_CLOCK  PERIOD  SHOT_DIST  \n",
       "0         10.8       1        7.7  \n",
       "7          3.4       4        3.5  \n",
       "11        12.1       4       14.6  \n",
       "12         4.3       4        5.9  \n",
       "15         6.4       2       24.7  "
      ]
     },
     "execution_count": 5,
     "metadata": {},
     "output_type": "execute_result"
    }
   ],
   "source": [
    "mades = new_pd.loc[(new_pd['PERIOD'] < 5) & (new_pd['SHOT_RESULT'] == 'made') ]\n",
    "mades.head()\n"
   ]
  },
  {
   "cell_type": "code",
   "execution_count": 6,
   "metadata": {},
   "outputs": [
    {
     "data": {
      "text/html": [
       "<div>\n",
       "<style>\n",
       "    .dataframe thead tr:only-child th {\n",
       "        text-align: right;\n",
       "    }\n",
       "\n",
       "    .dataframe thead th {\n",
       "        text-align: left;\n",
       "    }\n",
       "\n",
       "    .dataframe tbody tr th {\n",
       "        vertical-align: top;\n",
       "    }\n",
       "</style>\n",
       "<table border=\"1\" class=\"dataframe\">\n",
       "  <thead>\n",
       "    <tr style=\"text-align: right;\">\n",
       "      <th></th>\n",
       "      <th>AVG PTS per SHOT in PD</th>\n",
       "      <th>SHOTS MADE IN PD</th>\n",
       "      <th>SHOT_DIST</th>\n",
       "    </tr>\n",
       "    <tr>\n",
       "      <th>PERIOD</th>\n",
       "      <th></th>\n",
       "      <th></th>\n",
       "      <th></th>\n",
       "    </tr>\n",
       "  </thead>\n",
       "  <tbody>\n",
       "    <tr>\n",
       "      <th>1</th>\n",
       "      <td>2.192072</td>\n",
       "      <td>15640</td>\n",
       "      <td>11.713785</td>\n",
       "    </tr>\n",
       "    <tr>\n",
       "      <th>2</th>\n",
       "      <td>2.197997</td>\n",
       "      <td>14278</td>\n",
       "      <td>11.380389</td>\n",
       "    </tr>\n",
       "    <tr>\n",
       "      <th>3</th>\n",
       "      <td>2.206995</td>\n",
       "      <td>14725</td>\n",
       "      <td>11.835321</td>\n",
       "    </tr>\n",
       "    <tr>\n",
       "      <th>4</th>\n",
       "      <td>2.229071</td>\n",
       "      <td>12817</td>\n",
       "      <td>11.844488</td>\n",
       "    </tr>\n",
       "  </tbody>\n",
       "</table>\n",
       "</div>"
      ],
      "text/plain": [
       "        AVG PTS per SHOT in PD  SHOTS MADE IN PD  SHOT_DIST\n",
       "PERIOD                                                     \n",
       "1                     2.192072             15640  11.713785\n",
       "2                     2.197997             14278  11.380389\n",
       "3                     2.206995             14725  11.835321\n",
       "4                     2.229071             12817  11.844488"
      ]
     },
     "execution_count": 6,
     "metadata": {},
     "output_type": "execute_result"
    }
   ],
   "source": [
    "MADES =mades.groupby('PERIOD')['SHOT_RESULT'].count()\n",
    "PTS =mades.groupby('PERIOD')['PTS'].mean()\n",
    "distance = mades.groupby('PERIOD')['SHOT_DIST'].mean()\n",
    "\n",
    "player_df = pd.DataFrame({'SHOTS MADE IN PD':MADES, 'AVG PTS per SHOT in PD':PTS, 'SHOT_DIST': distance})\n",
    "player_df"
   ]
  },
  {
   "cell_type": "code",
   "execution_count": 23,
   "metadata": {
    "scrolled": false
   },
   "outputs": [
    {
     "data": {
      "image/png": "[encoded data removed]",
      "text/plain": [
       "<matplotlib.figure.Figure at 0x1c02085eb70>"
      ]
     },
     "metadata": {},
     "output_type": "display_data"
    }
   ],
   "source": [
    "plt.scatter( x = player_df['SHOT_DIST'] , y = player_df['AVG PTS per SHOT in PD'], s=player_df['SHOTS MADE IN PD'],color = ['skyblue', 'green', 'red', 'yellow'],alpha=.6,linewidth = 1,edgecolor = 'black')\n",
    "plt.title(\"SHOT DATA by PERIOD\")\n",
    "plt.annotate('Period 1', xy = (11.7,2.2), xytext=(11.65,1.98) )\n",
    "plt.annotate('Period 2', xy = (11.35,2.2), xytext=(11.33,1.99) )\n",
    "plt.annotate('Period 3', xy = (11.85,2.2), xytext=(11.80,2) )\n",
    "plt.annotate('Period 4', xy = (11.85,2.2), xytext=(11.85,2.4) )\n",
    "plt.ylabel(\"Average Pt made per Shot by PD\")\n",
    "plt.xlabel(\"Average Shot Distance(ft) by Period\")\n",
    "plt.show()"
   ]
  },
  {
   "cell_type": "code",
   "execution_count": null,
   "metadata": {
    "collapsed": true
   },
   "outputs": [],
   "source": []
  },
  {
   "cell_type": "code",
   "execution_count": null,
   "metadata": {
    "collapsed": true
   },
   "outputs": [],
   "source": []
  }
 ],
 "metadata": {
  "kernelspec": {
   "display_name": "Python [conda env:PythonData]",
   "language": "python",
   "name": "conda-env-PythonData-py"
  },
  "language_info": {
   "codemirror_mode": {
    "name": "ipython",
    "version": 3
   },
   "file_extension": ".py",
   "mimetype": "text/x-python",
   "name": "python",
   "nbconvert_exporter": "python",
   "pygments_lexer": "ipython3",
   "version": "3.6.2"
  }
 },
 "nbformat": 4,
 "nbformat_minor": 2
}
